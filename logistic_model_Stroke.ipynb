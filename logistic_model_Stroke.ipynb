{
 "cells": [
  {
   "cell_type": "markdown",
   "id": "2152e145",
   "metadata": {},
   "source": [
    "# Logistic Regression with Python\n",
    "Logistic Regression is one of the most widely used supervised machine learning algorithm. This algorithm is used to find the likelihood of an event happening or choice being made. In this project, I have used <b><i>Stroke</i></b> dataset. The aim of this project is to predict the <b><i>Stroke</i></b> based on the applied explanatory variables."
   ]
  },
  {
   "cell_type": "markdown",
   "id": "2b2d96d2",
   "metadata": {},
   "source": [
    "## 1. Introduction to Logistic Regression\n",
    "Machine learning algorithms are mostly categorized into two groups, supervised and unsupervised learning. These can be differentiated with the help of dependent or target variable. In supervised learning, a machine predict the output based on the given well labelled trained data.<br><br>\n",
    "Logistic Regression is a type of regression analysis which is used to predict the probability of binary event occurring. We get binary outcome based on the series of variables we apply. Among the two varibles which is used in this algorithm, one is called an independent or explanatory variable whereas the other is said to be dependent or target variable. "
   ]
  },
  {
   "cell_type": "markdown",
   "id": "9385ec5f",
   "metadata": {},
   "source": [
    "## 2. Terminologies"
   ]
  },
  {
   "cell_type": "markdown",
   "id": "55dabc42",
   "metadata": {},
   "source": [
    "### Confusion matrix\n",
    "It is a table in logistic regression which tells about the performance of a classification model. It is simply a graph of predictions from the model and its associated values.<br><br>Some metrics which comes from confusion matrix are given below.<br><br><b>Accuracy</b> - It is just a proportion of predictions that a model classified correctly.<br><b>Precision</b> - It is a ratio of correctly predicted positive observations to total positive observations.<br><b>Recall</b> - It is also known as sensitivity, hit rate, or the true positive rate (TPR). It is a ratio of correctly predicted positive observations to total observations in actual positive class.<br><b>F1 Score</b> - It measures test's accuracy. It is a weighted average of <b><i>Precision</i></b>  and <b><i>Recall</i></b>."
   ]
  },
  {
   "cell_type": "markdown",
   "id": "af9bc0b9",
   "metadata": {},
   "source": [
    "### AUC ROC Curve\n",
    "In classification problem, performance measurement is done in AUC(Area Under the Curve) - ROC(Receiver Operating Characteristics) Curve. In other words, it is just a visualization of multi-class classifiction problem. Here, we plot the graph of multiple classification model and compare their performance.<br><br>Basically, ROC is the probability curve and AUC is the degree of separability. Higher the AUC, the better the model is at prediction."
   ]
  },
  {
   "cell_type": "markdown",
   "id": "3ee4feaf",
   "metadata": {},
   "source": [
    "## 3. The problem statement\n",
    "In this project, I am going to predict the output based on the given input. I have used <b><i>Stroke</i></b> dataset in this project. Mainly, the aim of this project is to predict whether a person gets stroke or not based on the given input data such as <b><i>gender, age, hypertension, heart_disease, ever_married, work_type, Residence_type, avg_glucose_level, bmi and smoking_status</i></b>. "
   ]
  },
  {
   "cell_type": "markdown",
   "id": "ead5d899",
   "metadata": {},
   "source": [
    "## 4. Dataset description\n",
    "In this project, <b><i>Stroke</i></b> dataset has been used which was downloaded from kaggle.com. You can find the dataset at the following url :<br><br>https://www.kaggle.com/rishabh057/healthcare-dataset-stroke-data<br><br>\n",
    "This dataset contains details of about people of certain ages. In this dataset, there are 12 columns in total. The <b><i>gender</i></b> variable contains gender type, whereas <b><i>age</i></b> consists of values representing the ages of people. Similarly, <b><i>ever_married</i></b> tells whether a person is married or not, and <b><i>Residence_type</i></b> gives the information about the type of place where a person resides. Likewise, health details can be found on <b><i>hypertension</i></b> , <b><i>bmi</i></b> and <b><i>heart_disease</i></b> columns. Finally, <b><i>stroke</i></b> tells whether a person is having storke or not."
   ]
  },
  {
   "cell_type": "markdown",
   "id": "0191321d",
   "metadata": {},
   "source": [
    "## 5. Import libraries"
   ]
  },
  {
   "cell_type": "code",
   "execution_count": 2,
   "id": "63504166",
   "metadata": {},
   "outputs": [],
   "source": [
    "import pandas as pd\n",
    "import numpy as np\n",
    "import seaborn as sns\n",
    "import matplotlib.pyplot as plt\n",
    "\n",
    "from sklearn.linear_model import LogisticRegression\n",
    "from sklearn.metrics import roc_curve, classification_report, confusion_matrix, roc_auc_score, accuracy_score\n",
    "from sklearn.model_selection import train_test_split\n",
    "from sklearn.preprocessing import StandardScaler"
   ]
  },
  {
   "cell_type": "markdown",
   "id": "f8bd9885",
   "metadata": {},
   "source": [
    "## 6. Ignore warnings"
   ]
  },
  {
   "cell_type": "code",
   "execution_count": 3,
   "id": "26aadc96",
   "metadata": {},
   "outputs": [],
   "source": [
    "import warnings\n",
    "warnings.filterwarnings('ignore')"
   ]
  },
  {
   "cell_type": "markdown",
   "id": "85078b2a",
   "metadata": {},
   "source": [
    "## 7. Import dataset"
   ]
  },
  {
   "cell_type": "code",
   "execution_count": 4,
   "id": "e24de6f7",
   "metadata": {},
   "outputs": [],
   "source": [
    "data = pd.read_csv('healthcare-dataset-stroke-data.csv')"
   ]
  },
  {
   "cell_type": "markdown",
   "id": "33cf8635",
   "metadata": {},
   "source": [
    "## 8. Data analysis"
   ]
  },
  {
   "cell_type": "markdown",
   "id": "9013df53",
   "metadata": {},
   "source": [
    "### Shape of dataset"
   ]
  },
  {
   "cell_type": "code",
   "execution_count": 5,
   "id": "001578f2",
   "metadata": {},
   "outputs": [
    {
     "data": {
      "text/plain": [
       "(5110, 12)"
      ]
     },
     "execution_count": 5,
     "metadata": {},
     "output_type": "execute_result"
    }
   ],
   "source": [
    "data.shape"
   ]
  },
  {
   "cell_type": "markdown",
   "id": "7a3dcf1f",
   "metadata": {},
   "source": [
    "Here, we can see that there are 12 attributes and 5110 instances in the dataset. We have to see some more details about the dataset. Hence, we are going to see the first 5 instances of the dataset."
   ]
  },
  {
   "cell_type": "markdown",
   "id": "ee3f15a2",
   "metadata": {},
   "source": [
    "### Preview the dataset"
   ]
  },
  {
   "cell_type": "code",
   "execution_count": 6,
   "id": "8c6f3692",
   "metadata": {},
   "outputs": [
    {
     "data": {
      "text/html": [
       "<div>\n",
       "<style scoped>\n",
       "    .dataframe tbody tr th:only-of-type {\n",
       "        vertical-align: middle;\n",
       "    }\n",
       "\n",
       "    .dataframe tbody tr th {\n",
       "        vertical-align: top;\n",
       "    }\n",
       "\n",
       "    .dataframe thead th {\n",
       "        text-align: right;\n",
       "    }\n",
       "</style>\n",
       "<table border=\"1\" class=\"dataframe\">\n",
       "  <thead>\n",
       "    <tr style=\"text-align: right;\">\n",
       "      <th></th>\n",
       "      <th>id</th>\n",
       "      <th>gender</th>\n",
       "      <th>age</th>\n",
       "      <th>hypertension</th>\n",
       "      <th>heart_disease</th>\n",
       "      <th>ever_married</th>\n",
       "      <th>work_type</th>\n",
       "      <th>Residence_type</th>\n",
       "      <th>avg_glucose_level</th>\n",
       "      <th>bmi</th>\n",
       "      <th>smoking_status</th>\n",
       "      <th>stroke</th>\n",
       "    </tr>\n",
       "  </thead>\n",
       "  <tbody>\n",
       "    <tr>\n",
       "      <th>0</th>\n",
       "      <td>9046</td>\n",
       "      <td>Male</td>\n",
       "      <td>67.0</td>\n",
       "      <td>0</td>\n",
       "      <td>1</td>\n",
       "      <td>Yes</td>\n",
       "      <td>Private</td>\n",
       "      <td>Urban</td>\n",
       "      <td>228.69</td>\n",
       "      <td>36.6</td>\n",
       "      <td>formerly smoked</td>\n",
       "      <td>1</td>\n",
       "    </tr>\n",
       "    <tr>\n",
       "      <th>1</th>\n",
       "      <td>51676</td>\n",
       "      <td>Female</td>\n",
       "      <td>61.0</td>\n",
       "      <td>0</td>\n",
       "      <td>0</td>\n",
       "      <td>Yes</td>\n",
       "      <td>Self-employed</td>\n",
       "      <td>Rural</td>\n",
       "      <td>202.21</td>\n",
       "      <td>NaN</td>\n",
       "      <td>never smoked</td>\n",
       "      <td>1</td>\n",
       "    </tr>\n",
       "    <tr>\n",
       "      <th>2</th>\n",
       "      <td>31112</td>\n",
       "      <td>Male</td>\n",
       "      <td>80.0</td>\n",
       "      <td>0</td>\n",
       "      <td>1</td>\n",
       "      <td>Yes</td>\n",
       "      <td>Private</td>\n",
       "      <td>Rural</td>\n",
       "      <td>105.92</td>\n",
       "      <td>32.5</td>\n",
       "      <td>never smoked</td>\n",
       "      <td>1</td>\n",
       "    </tr>\n",
       "    <tr>\n",
       "      <th>3</th>\n",
       "      <td>60182</td>\n",
       "      <td>Female</td>\n",
       "      <td>49.0</td>\n",
       "      <td>0</td>\n",
       "      <td>0</td>\n",
       "      <td>Yes</td>\n",
       "      <td>Private</td>\n",
       "      <td>Urban</td>\n",
       "      <td>171.23</td>\n",
       "      <td>34.4</td>\n",
       "      <td>smokes</td>\n",
       "      <td>1</td>\n",
       "    </tr>\n",
       "    <tr>\n",
       "      <th>4</th>\n",
       "      <td>1665</td>\n",
       "      <td>Female</td>\n",
       "      <td>79.0</td>\n",
       "      <td>1</td>\n",
       "      <td>0</td>\n",
       "      <td>Yes</td>\n",
       "      <td>Self-employed</td>\n",
       "      <td>Rural</td>\n",
       "      <td>174.12</td>\n",
       "      <td>24.0</td>\n",
       "      <td>never smoked</td>\n",
       "      <td>1</td>\n",
       "    </tr>\n",
       "  </tbody>\n",
       "</table>\n",
       "</div>"
      ],
      "text/plain": [
       "      id  gender   age  hypertension  heart_disease ever_married  \\\n",
       "0   9046    Male  67.0             0              1          Yes   \n",
       "1  51676  Female  61.0             0              0          Yes   \n",
       "2  31112    Male  80.0             0              1          Yes   \n",
       "3  60182  Female  49.0             0              0          Yes   \n",
       "4   1665  Female  79.0             1              0          Yes   \n",
       "\n",
       "       work_type Residence_type  avg_glucose_level   bmi   smoking_status  \\\n",
       "0        Private          Urban             228.69  36.6  formerly smoked   \n",
       "1  Self-employed          Rural             202.21   NaN     never smoked   \n",
       "2        Private          Rural             105.92  32.5     never smoked   \n",
       "3        Private          Urban             171.23  34.4           smokes   \n",
       "4  Self-employed          Rural             174.12  24.0     never smoked   \n",
       "\n",
       "   stroke  \n",
       "0       1  \n",
       "1       1  \n",
       "2       1  \n",
       "3       1  \n",
       "4       1  "
      ]
     },
     "execution_count": 6,
     "metadata": {},
     "output_type": "execute_result"
    }
   ],
   "source": [
    "data.head()"
   ]
  },
  {
   "cell_type": "markdown",
   "id": "ea8937d5",
   "metadata": {},
   "source": [
    "### Summary of dataset"
   ]
  },
  {
   "cell_type": "code",
   "execution_count": 7,
   "id": "88c37913",
   "metadata": {
    "scrolled": false
   },
   "outputs": [
    {
     "name": "stdout",
     "output_type": "stream",
     "text": [
      "<class 'pandas.core.frame.DataFrame'>\n",
      "RangeIndex: 5110 entries, 0 to 5109\n",
      "Data columns (total 12 columns):\n",
      " #   Column             Non-Null Count  Dtype  \n",
      "---  ------             --------------  -----  \n",
      " 0   id                 5110 non-null   int64  \n",
      " 1   gender             5110 non-null   object \n",
      " 2   age                5110 non-null   float64\n",
      " 3   hypertension       5110 non-null   int64  \n",
      " 4   heart_disease      5110 non-null   int64  \n",
      " 5   ever_married       5110 non-null   object \n",
      " 6   work_type          5110 non-null   object \n",
      " 7   Residence_type     5110 non-null   object \n",
      " 8   avg_glucose_level  5110 non-null   float64\n",
      " 9   bmi                4909 non-null   float64\n",
      " 10  smoking_status     5110 non-null   object \n",
      " 11  stroke             5110 non-null   int64  \n",
      "dtypes: float64(3), int64(4), object(5)\n",
      "memory usage: 479.2+ KB\n"
     ]
    }
   ],
   "source": [
    "data.info()"
   ]
  },
  {
   "cell_type": "markdown",
   "id": "ff26e06c",
   "metadata": {},
   "source": [
    "From the above information, we can see that there are 12 columns in the dataset, each columns having values of different types. All together, there 3 types of data present in our dataset.<br><br>The columns are classified based on the types of data it holds.<br>Float - <b><i>age, avg_glucose_level, bmi</i></b><br>Int - <b><i>id, hypertension, heart_disease, stroke</i></b><br>Object - <b><i>gender, ever_married, work_type, Residence_type, smoking_status</i></b>"
   ]
  },
  {
   "cell_type": "markdown",
   "id": "7f220de5",
   "metadata": {},
   "source": [
    "### Copy data in another variable"
   ]
  },
  {
   "cell_type": "code",
   "execution_count": 8,
   "id": "07d88b8a",
   "metadata": {
    "scrolled": true
   },
   "outputs": [],
   "source": [
    "dataSet = data"
   ]
  },
  {
   "cell_type": "markdown",
   "id": "a01540e0",
   "metadata": {},
   "source": [
    "From here, we are going to perform all the operation on dataSet."
   ]
  },
  {
   "cell_type": "markdown",
   "id": "30adf7e1",
   "metadata": {},
   "source": [
    "### Check for missing values in dataset"
   ]
  },
  {
   "cell_type": "code",
   "execution_count": 9,
   "id": "8264b173",
   "metadata": {
    "scrolled": true
   },
   "outputs": [
    {
     "data": {
      "text/plain": [
       "id                     0\n",
       "gender                 0\n",
       "age                    0\n",
       "hypertension           0\n",
       "heart_disease          0\n",
       "ever_married           0\n",
       "work_type              0\n",
       "Residence_type         0\n",
       "avg_glucose_level      0\n",
       "bmi                  201\n",
       "smoking_status         0\n",
       "stroke                 0\n",
       "dtype: int64"
      ]
     },
     "execution_count": 9,
     "metadata": {},
     "output_type": "execute_result"
    }
   ],
   "source": [
    "dataSet.isnull().sum()"
   ]
  },
  {
   "cell_type": "markdown",
   "id": "0befc128",
   "metadata": {},
   "source": [
    "We can see that one column <b><i>bmi</i></b> contains 201 vaules. Hence, we are going to manipulate it in <b><i>Data Cleaning</i></b> section."
   ]
  },
  {
   "cell_type": "markdown",
   "id": "69ba8218",
   "metadata": {},
   "source": [
    "## 9. Data Visualization"
   ]
  },
  {
   "cell_type": "markdown",
   "id": "01d8737a",
   "metadata": {},
   "source": [
    "### Gender Count"
   ]
  },
  {
   "cell_type": "code",
   "execution_count": 10,
   "id": "000ea560",
   "metadata": {
    "scrolled": false
   },
   "outputs": [
    {
     "data": {
      "text/plain": [
       "Text(0.5, 1.0, 'Frequencies of Gender')"
      ]
     },
     "execution_count": 10,
     "metadata": {},
     "output_type": "execute_result"
    },
    {
     "data": {
      "image/png": "[encoded data removed]",
      "text/plain": [
       "<Figure size 720x360 with 1 Axes>"
      ]
     },
     "metadata": {
      "needs_background": "light"
     },
     "output_type": "display_data"
    }
   ],
   "source": [
    "plt.figure(figsize = (10, 5))\n",
    "sns.countplot(dataSet['gender'])\n",
    "plt.title('Frequencies of Gender')"
   ]
  },
  {
   "cell_type": "markdown",
   "id": "8e46db8b",
   "metadata": {},
   "source": [
    "In the above figure, we find that the largest proportion of people are female followed by male which is around 2100. However, very few people belongs to other category."
   ]
  },
  {
   "cell_type": "markdown",
   "id": "1d9953b6",
   "metadata": {},
   "source": [
    "### Work details"
   ]
  },
  {
   "cell_type": "code",
   "execution_count": 11,
   "id": "ad180583",
   "metadata": {
    "scrolled": false
   },
   "outputs": [
    {
     "data": {
      "text/plain": [
       "Text(0, 0.5, 'Frequencies of Works')"
      ]
     },
     "execution_count": 11,
     "metadata": {},
     "output_type": "execute_result"
    },
    {
     "data": {
      "image/png": "[encoded data removed]",
      "text/plain": [
       "<Figure size 720x360 with 1 Axes>"
      ]
     },
     "metadata": {
      "needs_background": "light"
     },
     "output_type": "display_data"
    }
   ],
   "source": [
    "plt.figure(figsize = (10, 5))\n",
    "sns.histplot(x =\"work_type\", data=dataSet, color='purple')\n",
    "plt.title('Work Details')\n",
    "plt.xlabel('Work Types')\n",
    "plt.ylabel('Frequencies of Works')"
   ]
  },
  {
   "cell_type": "markdown",
   "id": "ed6fd26f",
   "metadata": {},
   "source": [
    "In the above histogram, around 2900 people are working in <b>private</b> company. As we can see alomst equal amount of people are having <b>Gov_job</b> and <b>Children</b> . However, very few people have never worked."
   ]
  },
  {
   "cell_type": "markdown",
   "id": "58e886e6",
   "metadata": {},
   "source": [
    "### Age and Stroke Relationship"
   ]
  },
  {
   "cell_type": "code",
   "execution_count": 12,
   "id": "a742d64b",
   "metadata": {
    "scrolled": false
   },
   "outputs": [
    {
     "data": {
      "text/plain": [
       "Text(0, 0.5, 'Stroke')"
      ]
     },
     "execution_count": 12,
     "metadata": {},
     "output_type": "execute_result"
    },
    {
     "data": {
      "image/png": "[encoded data removed]",
      "text/plain": [
       "<Figure size 720x360 with 1 Axes>"
      ]
     },
     "metadata": {
      "needs_background": "light"
     },
     "output_type": "display_data"
    }
   ],
   "source": [
    "plt.figure(figsize = (10, 5))\n",
    "sns.scatterplot(x = dataSet['age'], y = dataSet['stroke'], color = 'red')\n",
    "plt.title('Age vs Stroke')\n",
    "plt.xlabel('Age Range')\n",
    "plt.ylabel('Stroke')"
   ]
  },
  {
   "cell_type": "markdown",
   "id": "63b4bdf1",
   "metadata": {},
   "source": [
    "From the above figure, we can see that people who is more than 40 years old tends to suffer from stroke."
   ]
  },
  {
   "cell_type": "markdown",
   "id": "fe20197b",
   "metadata": {},
   "source": [
    "## 10. Data Cleaning and Preparation"
   ]
  },
  {
   "cell_type": "markdown",
   "id": "358851cc",
   "metadata": {},
   "source": [
    "### Fill missing values in the dataset\n",
    "We have found some null values in bmi column earlier. Hence, we are going to fill it."
   ]
  },
  {
   "cell_type": "code",
   "execution_count": 13,
   "id": "370add45",
   "metadata": {},
   "outputs": [],
   "source": [
    "dataSet['bmi']=dataSet['bmi'].fillna(dataSet['bmi'].mean())"
   ]
  },
  {
   "cell_type": "markdown",
   "id": "f4189ae1",
   "metadata": {},
   "source": [
    "The missing cells are filled by calculating the average of values present in  the particular column."
   ]
  },
  {
   "cell_type": "markdown",
   "id": "91e29a38",
   "metadata": {},
   "source": [
    "### Again check for missing value"
   ]
  },
  {
   "cell_type": "code",
   "execution_count": 14,
   "id": "37253f3b",
   "metadata": {
    "scrolled": true
   },
   "outputs": [
    {
     "data": {
      "text/plain": [
       "id                   False\n",
       "gender               False\n",
       "age                  False\n",
       "hypertension         False\n",
       "heart_disease        False\n",
       "ever_married         False\n",
       "work_type            False\n",
       "Residence_type       False\n",
       "avg_glucose_level    False\n",
       "bmi                  False\n",
       "smoking_status       False\n",
       "stroke               False\n",
       "dtype: bool"
      ]
     },
     "execution_count": 14,
     "metadata": {},
     "output_type": "execute_result"
    }
   ],
   "source": [
    "dataSet.isnull().any()"
   ]
  },
  {
   "cell_type": "markdown",
   "id": "0bad7a48",
   "metadata": {},
   "source": [
    "Now, there are no any missing values in our dataset."
   ]
  },
  {
   "cell_type": "markdown",
   "id": "225bde3b",
   "metadata": {},
   "source": [
    "### Drop redundant columns from dataset"
   ]
  },
  {
   "cell_type": "code",
   "execution_count": 15,
   "id": "3457954c",
   "metadata": {},
   "outputs": [],
   "source": [
    "dataSet.drop(columns=['id'], axis=1, inplace=True)"
   ]
  },
  {
   "cell_type": "markdown",
   "id": "8572d9f7",
   "metadata": {},
   "source": [
    "### Summary of dataset"
   ]
  },
  {
   "cell_type": "code",
   "execution_count": 16,
   "id": "7b8067c7",
   "metadata": {
    "scrolled": false
   },
   "outputs": [
    {
     "name": "stdout",
     "output_type": "stream",
     "text": [
      "<class 'pandas.core.frame.DataFrame'>\n",
      "RangeIndex: 5110 entries, 0 to 5109\n",
      "Data columns (total 11 columns):\n",
      " #   Column             Non-Null Count  Dtype  \n",
      "---  ------             --------------  -----  \n",
      " 0   gender             5110 non-null   object \n",
      " 1   age                5110 non-null   float64\n",
      " 2   hypertension       5110 non-null   int64  \n",
      " 3   heart_disease      5110 non-null   int64  \n",
      " 4   ever_married       5110 non-null   object \n",
      " 5   work_type          5110 non-null   object \n",
      " 6   Residence_type     5110 non-null   object \n",
      " 7   avg_glucose_level  5110 non-null   float64\n",
      " 8   bmi                5110 non-null   float64\n",
      " 9   smoking_status     5110 non-null   object \n",
      " 10  stroke             5110 non-null   int64  \n",
      "dtypes: float64(3), int64(3), object(5)\n",
      "memory usage: 439.3+ KB\n"
     ]
    }
   ],
   "source": [
    "dataSet.info()"
   ]
  },
  {
   "cell_type": "markdown",
   "id": "b6786d3b",
   "metadata": {},
   "source": [
    "We have removed the unnecessary columns from the dataset. Now, there are only 11 columns present in our dataset. There are 3 attributes which are of type object, 3 are of type int64 and the remaining are of type float64."
   ]
  },
  {
   "cell_type": "markdown",
   "id": "e29d3df9",
   "metadata": {},
   "source": [
    "### Binary label encoding"
   ]
  },
  {
   "cell_type": "markdown",
   "id": "53c1a33a",
   "metadata": {},
   "source": [
    "Below, we are going to convert the categorical data into numeric one."
   ]
  },
  {
   "cell_type": "code",
   "execution_count": 17,
   "id": "5b8a9c27",
   "metadata": {
    "scrolled": true
   },
   "outputs": [],
   "source": [
    "dataSet['ever_married'] = dataSet['ever_married'].replace({'Yes':1, 'No':0})"
   ]
  },
  {
   "cell_type": "code",
   "execution_count": 18,
   "id": "a9199019",
   "metadata": {},
   "outputs": [],
   "source": [
    "dataSet['Residence_type'] = dataSet['Residence_type'].replace({'Urban':1, 'Rural':0})"
   ]
  },
  {
   "cell_type": "markdown",
   "id": "dd5a98b0",
   "metadata": {},
   "source": [
    "### View summary of dataset"
   ]
  },
  {
   "cell_type": "code",
   "execution_count": 19,
   "id": "6ad1580c",
   "metadata": {
    "scrolled": true
   },
   "outputs": [
    {
     "data": {
      "text/html": [
       "<div>\n",
       "<style scoped>\n",
       "    .dataframe tbody tr th:only-of-type {\n",
       "        vertical-align: middle;\n",
       "    }\n",
       "\n",
       "    .dataframe tbody tr th {\n",
       "        vertical-align: top;\n",
       "    }\n",
       "\n",
       "    .dataframe thead th {\n",
       "        text-align: right;\n",
       "    }\n",
       "</style>\n",
       "<table border=\"1\" class=\"dataframe\">\n",
       "  <thead>\n",
       "    <tr style=\"text-align: right;\">\n",
       "      <th></th>\n",
       "      <th>gender</th>\n",
       "      <th>age</th>\n",
       "      <th>hypertension</th>\n",
       "      <th>heart_disease</th>\n",
       "      <th>ever_married</th>\n",
       "      <th>work_type</th>\n",
       "      <th>Residence_type</th>\n",
       "      <th>avg_glucose_level</th>\n",
       "      <th>bmi</th>\n",
       "      <th>smoking_status</th>\n",
       "      <th>stroke</th>\n",
       "    </tr>\n",
       "  </thead>\n",
       "  <tbody>\n",
       "    <tr>\n",
       "      <th>0</th>\n",
       "      <td>Male</td>\n",
       "      <td>67.0</td>\n",
       "      <td>0</td>\n",
       "      <td>1</td>\n",
       "      <td>1</td>\n",
       "      <td>Private</td>\n",
       "      <td>1</td>\n",
       "      <td>228.69</td>\n",
       "      <td>36.600000</td>\n",
       "      <td>formerly smoked</td>\n",
       "      <td>1</td>\n",
       "    </tr>\n",
       "    <tr>\n",
       "      <th>1</th>\n",
       "      <td>Female</td>\n",
       "      <td>61.0</td>\n",
       "      <td>0</td>\n",
       "      <td>0</td>\n",
       "      <td>1</td>\n",
       "      <td>Self-employed</td>\n",
       "      <td>0</td>\n",
       "      <td>202.21</td>\n",
       "      <td>28.893237</td>\n",
       "      <td>never smoked</td>\n",
       "      <td>1</td>\n",
       "    </tr>\n",
       "    <tr>\n",
       "      <th>2</th>\n",
       "      <td>Male</td>\n",
       "      <td>80.0</td>\n",
       "      <td>0</td>\n",
       "      <td>1</td>\n",
       "      <td>1</td>\n",
       "      <td>Private</td>\n",
       "      <td>0</td>\n",
       "      <td>105.92</td>\n",
       "      <td>32.500000</td>\n",
       "      <td>never smoked</td>\n",
       "      <td>1</td>\n",
       "    </tr>\n",
       "    <tr>\n",
       "      <th>3</th>\n",
       "      <td>Female</td>\n",
       "      <td>49.0</td>\n",
       "      <td>0</td>\n",
       "      <td>0</td>\n",
       "      <td>1</td>\n",
       "      <td>Private</td>\n",
       "      <td>1</td>\n",
       "      <td>171.23</td>\n",
       "      <td>34.400000</td>\n",
       "      <td>smokes</td>\n",
       "      <td>1</td>\n",
       "    </tr>\n",
       "    <tr>\n",
       "      <th>4</th>\n",
       "      <td>Female</td>\n",
       "      <td>79.0</td>\n",
       "      <td>1</td>\n",
       "      <td>0</td>\n",
       "      <td>1</td>\n",
       "      <td>Self-employed</td>\n",
       "      <td>0</td>\n",
       "      <td>174.12</td>\n",
       "      <td>24.000000</td>\n",
       "      <td>never smoked</td>\n",
       "      <td>1</td>\n",
       "    </tr>\n",
       "  </tbody>\n",
       "</table>\n",
       "</div>"
      ],
      "text/plain": [
       "   gender   age  hypertension  heart_disease  ever_married      work_type  \\\n",
       "0    Male  67.0             0              1             1        Private   \n",
       "1  Female  61.0             0              0             1  Self-employed   \n",
       "2    Male  80.0             0              1             1        Private   \n",
       "3  Female  49.0             0              0             1        Private   \n",
       "4  Female  79.0             1              0             1  Self-employed   \n",
       "\n",
       "   Residence_type  avg_glucose_level        bmi   smoking_status  stroke  \n",
       "0               1             228.69  36.600000  formerly smoked       1  \n",
       "1               0             202.21  28.893237     never smoked       1  \n",
       "2               0             105.92  32.500000     never smoked       1  \n",
       "3               1             171.23  34.400000           smokes       1  \n",
       "4               0             174.12  24.000000     never smoked       1  "
      ]
     },
     "execution_count": 19,
     "metadata": {},
     "output_type": "execute_result"
    }
   ],
   "source": [
    "dataSet.head()"
   ]
  },
  {
   "cell_type": "markdown",
   "id": "1a11c66a",
   "metadata": {},
   "source": [
    "### Checking unique values "
   ]
  },
  {
   "cell_type": "code",
   "execution_count": 20,
   "id": "c3c598c0",
   "metadata": {},
   "outputs": [
    {
     "data": {
      "text/plain": [
       "array(['Male', 'Female', 'Other'], dtype=object)"
      ]
     },
     "execution_count": 20,
     "metadata": {},
     "output_type": "execute_result"
    }
   ],
   "source": [
    "# check for unique values of gender column\n",
    "dataSet.gender.unique()"
   ]
  },
  {
   "cell_type": "code",
   "execution_count": 21,
   "id": "d113c303",
   "metadata": {},
   "outputs": [
    {
     "data": {
      "text/plain": [
       "array(['Private', 'Self-employed', 'Govt_job', 'children', 'Never_worked'],\n",
       "      dtype=object)"
      ]
     },
     "execution_count": 21,
     "metadata": {},
     "output_type": "execute_result"
    }
   ],
   "source": [
    "# check for unique values of work_type column\n",
    "dataSet.work_type.unique()"
   ]
  },
  {
   "cell_type": "code",
   "execution_count": 22,
   "id": "e55d9c31",
   "metadata": {},
   "outputs": [
    {
     "data": {
      "text/plain": [
       "array(['formerly smoked', 'never smoked', 'smokes', 'Unknown'],\n",
       "      dtype=object)"
      ]
     },
     "execution_count": 22,
     "metadata": {},
     "output_type": "execute_result"
    }
   ],
   "source": [
    "# check for unique values of smoking_status column\n",
    "dataSet.smoking_status.unique()"
   ]
  },
  {
   "cell_type": "markdown",
   "id": "b2aabac9",
   "metadata": {},
   "source": [
    "### One Hot Encoding"
   ]
  },
  {
   "cell_type": "code",
   "execution_count": 23,
   "id": "844166ee",
   "metadata": {},
   "outputs": [],
   "source": [
    "# splits columns into multiple columns and store in temporary variables\n",
    "temp_gender = pd.get_dummies(dataSet['gender'], prefix='Gender')\n",
    "temp_work = pd.get_dummies(dataSet['work_type'], prefix='WorkType')\n",
    "temp_status = pd.get_dummies(dataSet['smoking_status'], prefix='SmokingStatus')"
   ]
  },
  {
   "cell_type": "markdown",
   "id": "3c8e754a",
   "metadata": {},
   "source": [
    "### Checking values in temporary variables"
   ]
  },
  {
   "cell_type": "code",
   "execution_count": 24,
   "id": "25728c53",
   "metadata": {},
   "outputs": [
    {
     "data": {
      "text/html": [
       "<div>\n",
       "<style scoped>\n",
       "    .dataframe tbody tr th:only-of-type {\n",
       "        vertical-align: middle;\n",
       "    }\n",
       "\n",
       "    .dataframe tbody tr th {\n",
       "        vertical-align: top;\n",
       "    }\n",
       "\n",
       "    .dataframe thead th {\n",
       "        text-align: right;\n",
       "    }\n",
       "</style>\n",
       "<table border=\"1\" class=\"dataframe\">\n",
       "  <thead>\n",
       "    <tr style=\"text-align: right;\">\n",
       "      <th></th>\n",
       "      <th>Gender_Female</th>\n",
       "      <th>Gender_Male</th>\n",
       "      <th>Gender_Other</th>\n",
       "    </tr>\n",
       "  </thead>\n",
       "  <tbody>\n",
       "    <tr>\n",
       "      <th>0</th>\n",
       "      <td>0</td>\n",
       "      <td>1</td>\n",
       "      <td>0</td>\n",
       "    </tr>\n",
       "    <tr>\n",
       "      <th>1</th>\n",
       "      <td>1</td>\n",
       "      <td>0</td>\n",
       "      <td>0</td>\n",
       "    </tr>\n",
       "    <tr>\n",
       "      <th>2</th>\n",
       "      <td>0</td>\n",
       "      <td>1</td>\n",
       "      <td>0</td>\n",
       "    </tr>\n",
       "    <tr>\n",
       "      <th>3</th>\n",
       "      <td>1</td>\n",
       "      <td>0</td>\n",
       "      <td>0</td>\n",
       "    </tr>\n",
       "    <tr>\n",
       "      <th>4</th>\n",
       "      <td>1</td>\n",
       "      <td>0</td>\n",
       "      <td>0</td>\n",
       "    </tr>\n",
       "    <tr>\n",
       "      <th>...</th>\n",
       "      <td>...</td>\n",
       "      <td>...</td>\n",
       "      <td>...</td>\n",
       "    </tr>\n",
       "    <tr>\n",
       "      <th>5105</th>\n",
       "      <td>1</td>\n",
       "      <td>0</td>\n",
       "      <td>0</td>\n",
       "    </tr>\n",
       "    <tr>\n",
       "      <th>5106</th>\n",
       "      <td>1</td>\n",
       "      <td>0</td>\n",
       "      <td>0</td>\n",
       "    </tr>\n",
       "    <tr>\n",
       "      <th>5107</th>\n",
       "      <td>1</td>\n",
       "      <td>0</td>\n",
       "      <td>0</td>\n",
       "    </tr>\n",
       "    <tr>\n",
       "      <th>5108</th>\n",
       "      <td>0</td>\n",
       "      <td>1</td>\n",
       "      <td>0</td>\n",
       "    </tr>\n",
       "    <tr>\n",
       "      <th>5109</th>\n",
       "      <td>1</td>\n",
       "      <td>0</td>\n",
       "      <td>0</td>\n",
       "    </tr>\n",
       "  </tbody>\n",
       "</table>\n",
       "<p>5110 rows × 3 columns</p>\n",
       "</div>"
      ],
      "text/plain": [
       "      Gender_Female  Gender_Male  Gender_Other\n",
       "0                 0            1             0\n",
       "1                 1            0             0\n",
       "2                 0            1             0\n",
       "3                 1            0             0\n",
       "4                 1            0             0\n",
       "...             ...          ...           ...\n",
       "5105              1            0             0\n",
       "5106              1            0             0\n",
       "5107              1            0             0\n",
       "5108              0            1             0\n",
       "5109              1            0             0\n",
       "\n",
       "[5110 rows x 3 columns]"
      ]
     },
     "execution_count": 24,
     "metadata": {},
     "output_type": "execute_result"
    }
   ],
   "source": [
    "temp_gender"
   ]
  },
  {
   "cell_type": "code",
   "execution_count": 25,
   "id": "05eb8650",
   "metadata": {
    "scrolled": false
   },
   "outputs": [
    {
     "data": {
      "text/html": [
       "<div>\n",
       "<style scoped>\n",
       "    .dataframe tbody tr th:only-of-type {\n",
       "        vertical-align: middle;\n",
       "    }\n",
       "\n",
       "    .dataframe tbody tr th {\n",
       "        vertical-align: top;\n",
       "    }\n",
       "\n",
       "    .dataframe thead th {\n",
       "        text-align: right;\n",
       "    }\n",
       "</style>\n",
       "<table border=\"1\" class=\"dataframe\">\n",
       "  <thead>\n",
       "    <tr style=\"text-align: right;\">\n",
       "      <th></th>\n",
       "      <th>WorkType_Govt_job</th>\n",
       "      <th>WorkType_Never_worked</th>\n",
       "      <th>WorkType_Private</th>\n",
       "      <th>WorkType_Self-employed</th>\n",
       "      <th>WorkType_children</th>\n",
       "    </tr>\n",
       "  </thead>\n",
       "  <tbody>\n",
       "    <tr>\n",
       "      <th>0</th>\n",
       "      <td>0</td>\n",
       "      <td>0</td>\n",
       "      <td>1</td>\n",
       "      <td>0</td>\n",
       "      <td>0</td>\n",
       "    </tr>\n",
       "    <tr>\n",
       "      <th>1</th>\n",
       "      <td>0</td>\n",
       "      <td>0</td>\n",
       "      <td>0</td>\n",
       "      <td>1</td>\n",
       "      <td>0</td>\n",
       "    </tr>\n",
       "    <tr>\n",
       "      <th>2</th>\n",
       "      <td>0</td>\n",
       "      <td>0</td>\n",
       "      <td>1</td>\n",
       "      <td>0</td>\n",
       "      <td>0</td>\n",
       "    </tr>\n",
       "    <tr>\n",
       "      <th>3</th>\n",
       "      <td>0</td>\n",
       "      <td>0</td>\n",
       "      <td>1</td>\n",
       "      <td>0</td>\n",
       "      <td>0</td>\n",
       "    </tr>\n",
       "    <tr>\n",
       "      <th>4</th>\n",
       "      <td>0</td>\n",
       "      <td>0</td>\n",
       "      <td>0</td>\n",
       "      <td>1</td>\n",
       "      <td>0</td>\n",
       "    </tr>\n",
       "    <tr>\n",
       "      <th>...</th>\n",
       "      <td>...</td>\n",
       "      <td>...</td>\n",
       "      <td>...</td>\n",
       "      <td>...</td>\n",
       "      <td>...</td>\n",
       "    </tr>\n",
       "    <tr>\n",
       "      <th>5105</th>\n",
       "      <td>0</td>\n",
       "      <td>0</td>\n",
       "      <td>1</td>\n",
       "      <td>0</td>\n",
       "      <td>0</td>\n",
       "    </tr>\n",
       "    <tr>\n",
       "      <th>5106</th>\n",
       "      <td>0</td>\n",
       "      <td>0</td>\n",
       "      <td>0</td>\n",
       "      <td>1</td>\n",
       "      <td>0</td>\n",
       "    </tr>\n",
       "    <tr>\n",
       "      <th>5107</th>\n",
       "      <td>0</td>\n",
       "      <td>0</td>\n",
       "      <td>0</td>\n",
       "      <td>1</td>\n",
       "      <td>0</td>\n",
       "    </tr>\n",
       "    <tr>\n",
       "      <th>5108</th>\n",
       "      <td>0</td>\n",
       "      <td>0</td>\n",
       "      <td>1</td>\n",
       "      <td>0</td>\n",
       "      <td>0</td>\n",
       "    </tr>\n",
       "    <tr>\n",
       "      <th>5109</th>\n",
       "      <td>1</td>\n",
       "      <td>0</td>\n",
       "      <td>0</td>\n",
       "      <td>0</td>\n",
       "      <td>0</td>\n",
       "    </tr>\n",
       "  </tbody>\n",
       "</table>\n",
       "<p>5110 rows × 5 columns</p>\n",
       "</div>"
      ],
      "text/plain": [
       "      WorkType_Govt_job  WorkType_Never_worked  WorkType_Private  \\\n",
       "0                     0                      0                 1   \n",
       "1                     0                      0                 0   \n",
       "2                     0                      0                 1   \n",
       "3                     0                      0                 1   \n",
       "4                     0                      0                 0   \n",
       "...                 ...                    ...               ...   \n",
       "5105                  0                      0                 1   \n",
       "5106                  0                      0                 0   \n",
       "5107                  0                      0                 0   \n",
       "5108                  0                      0                 1   \n",
       "5109                  1                      0                 0   \n",
       "\n",
       "      WorkType_Self-employed  WorkType_children  \n",
       "0                          0                  0  \n",
       "1                          1                  0  \n",
       "2                          0                  0  \n",
       "3                          0                  0  \n",
       "4                          1                  0  \n",
       "...                      ...                ...  \n",
       "5105                       0                  0  \n",
       "5106                       1                  0  \n",
       "5107                       1                  0  \n",
       "5108                       0                  0  \n",
       "5109                       0                  0  \n",
       "\n",
       "[5110 rows x 5 columns]"
      ]
     },
     "execution_count": 25,
     "metadata": {},
     "output_type": "execute_result"
    }
   ],
   "source": [
    "temp_work"
   ]
  },
  {
   "cell_type": "code",
   "execution_count": 26,
   "id": "26cb2df0",
   "metadata": {},
   "outputs": [
    {
     "data": {
      "text/html": [
       "<div>\n",
       "<style scoped>\n",
       "    .dataframe tbody tr th:only-of-type {\n",
       "        vertical-align: middle;\n",
       "    }\n",
       "\n",
       "    .dataframe tbody tr th {\n",
       "        vertical-align: top;\n",
       "    }\n",
       "\n",
       "    .dataframe thead th {\n",
       "        text-align: right;\n",
       "    }\n",
       "</style>\n",
       "<table border=\"1\" class=\"dataframe\">\n",
       "  <thead>\n",
       "    <tr style=\"text-align: right;\">\n",
       "      <th></th>\n",
       "      <th>SmokingStatus_Unknown</th>\n",
       "      <th>SmokingStatus_formerly smoked</th>\n",
       "      <th>SmokingStatus_never smoked</th>\n",
       "      <th>SmokingStatus_smokes</th>\n",
       "    </tr>\n",
       "  </thead>\n",
       "  <tbody>\n",
       "    <tr>\n",
       "      <th>0</th>\n",
       "      <td>0</td>\n",
       "      <td>1</td>\n",
       "      <td>0</td>\n",
       "      <td>0</td>\n",
       "    </tr>\n",
       "    <tr>\n",
       "      <th>1</th>\n",
       "      <td>0</td>\n",
       "      <td>0</td>\n",
       "      <td>1</td>\n",
       "      <td>0</td>\n",
       "    </tr>\n",
       "    <tr>\n",
       "      <th>2</th>\n",
       "      <td>0</td>\n",
       "      <td>0</td>\n",
       "      <td>1</td>\n",
       "      <td>0</td>\n",
       "    </tr>\n",
       "    <tr>\n",
       "      <th>3</th>\n",
       "      <td>0</td>\n",
       "      <td>0</td>\n",
       "      <td>0</td>\n",
       "      <td>1</td>\n",
       "    </tr>\n",
       "    <tr>\n",
       "      <th>4</th>\n",
       "      <td>0</td>\n",
       "      <td>0</td>\n",
       "      <td>1</td>\n",
       "      <td>0</td>\n",
       "    </tr>\n",
       "    <tr>\n",
       "      <th>...</th>\n",
       "      <td>...</td>\n",
       "      <td>...</td>\n",
       "      <td>...</td>\n",
       "      <td>...</td>\n",
       "    </tr>\n",
       "    <tr>\n",
       "      <th>5105</th>\n",
       "      <td>0</td>\n",
       "      <td>0</td>\n",
       "      <td>1</td>\n",
       "      <td>0</td>\n",
       "    </tr>\n",
       "    <tr>\n",
       "      <th>5106</th>\n",
       "      <td>0</td>\n",
       "      <td>0</td>\n",
       "      <td>1</td>\n",
       "      <td>0</td>\n",
       "    </tr>\n",
       "    <tr>\n",
       "      <th>5107</th>\n",
       "      <td>0</td>\n",
       "      <td>0</td>\n",
       "      <td>1</td>\n",
       "      <td>0</td>\n",
       "    </tr>\n",
       "    <tr>\n",
       "      <th>5108</th>\n",
       "      <td>0</td>\n",
       "      <td>1</td>\n",
       "      <td>0</td>\n",
       "      <td>0</td>\n",
       "    </tr>\n",
       "    <tr>\n",
       "      <th>5109</th>\n",
       "      <td>1</td>\n",
       "      <td>0</td>\n",
       "      <td>0</td>\n",
       "      <td>0</td>\n",
       "    </tr>\n",
       "  </tbody>\n",
       "</table>\n",
       "<p>5110 rows × 4 columns</p>\n",
       "</div>"
      ],
      "text/plain": [
       "      SmokingStatus_Unknown  SmokingStatus_formerly smoked  \\\n",
       "0                         0                              1   \n",
       "1                         0                              0   \n",
       "2                         0                              0   \n",
       "3                         0                              0   \n",
       "4                         0                              0   \n",
       "...                     ...                            ...   \n",
       "5105                      0                              0   \n",
       "5106                      0                              0   \n",
       "5107                      0                              0   \n",
       "5108                      0                              1   \n",
       "5109                      1                              0   \n",
       "\n",
       "      SmokingStatus_never smoked  SmokingStatus_smokes  \n",
       "0                              0                     0  \n",
       "1                              1                     0  \n",
       "2                              1                     0  \n",
       "3                              0                     1  \n",
       "4                              1                     0  \n",
       "...                          ...                   ...  \n",
       "5105                           1                     0  \n",
       "5106                           1                     0  \n",
       "5107                           1                     0  \n",
       "5108                           0                     0  \n",
       "5109                           0                     0  \n",
       "\n",
       "[5110 rows x 4 columns]"
      ]
     },
     "execution_count": 26,
     "metadata": {},
     "output_type": "execute_result"
    }
   ],
   "source": [
    "temp_status"
   ]
  },
  {
   "cell_type": "markdown",
   "id": "958af780",
   "metadata": {},
   "source": [
    "### Adding values to dataset"
   ]
  },
  {
   "cell_type": "code",
   "execution_count": 27,
   "id": "76b34422",
   "metadata": {},
   "outputs": [],
   "source": [
    "dataSet = pd.concat([dataSet, temp_gender], axis=1)\n",
    "dataSet = pd.concat([dataSet, temp_work], axis=1)\n",
    "dataSet = pd.concat([dataSet, temp_status], axis=1)"
   ]
  },
  {
   "cell_type": "markdown",
   "id": "f436ea03",
   "metadata": {},
   "source": [
    "Here, we have joined the resulted columns into our dataset."
   ]
  },
  {
   "cell_type": "markdown",
   "id": "a4b63447",
   "metadata": {},
   "source": [
    "### Preview summary of dataset again"
   ]
  },
  {
   "cell_type": "code",
   "execution_count": 28,
   "id": "8e8771e9",
   "metadata": {},
   "outputs": [
    {
     "name": "stdout",
     "output_type": "stream",
     "text": [
      "<class 'pandas.core.frame.DataFrame'>\n",
      "RangeIndex: 5110 entries, 0 to 5109\n",
      "Data columns (total 23 columns):\n",
      " #   Column                         Non-Null Count  Dtype  \n",
      "---  ------                         --------------  -----  \n",
      " 0   gender                         5110 non-null   object \n",
      " 1   age                            5110 non-null   float64\n",
      " 2   hypertension                   5110 non-null   int64  \n",
      " 3   heart_disease                  5110 non-null   int64  \n",
      " 4   ever_married                   5110 non-null   int64  \n",
      " 5   work_type                      5110 non-null   object \n",
      " 6   Residence_type                 5110 non-null   int64  \n",
      " 7   avg_glucose_level              5110 non-null   float64\n",
      " 8   bmi                            5110 non-null   float64\n",
      " 9   smoking_status                 5110 non-null   object \n",
      " 10  stroke                         5110 non-null   int64  \n",
      " 11  Gender_Female                  5110 non-null   uint8  \n",
      " 12  Gender_Male                    5110 non-null   uint8  \n",
      " 13  Gender_Other                   5110 non-null   uint8  \n",
      " 14  WorkType_Govt_job              5110 non-null   uint8  \n",
      " 15  WorkType_Never_worked          5110 non-null   uint8  \n",
      " 16  WorkType_Private               5110 non-null   uint8  \n",
      " 17  WorkType_Self-employed         5110 non-null   uint8  \n",
      " 18  WorkType_children              5110 non-null   uint8  \n",
      " 19  SmokingStatus_Unknown          5110 non-null   uint8  \n",
      " 20  SmokingStatus_formerly smoked  5110 non-null   uint8  \n",
      " 21  SmokingStatus_never smoked     5110 non-null   uint8  \n",
      " 22  SmokingStatus_smokes           5110 non-null   uint8  \n",
      "dtypes: float64(3), int64(5), object(3), uint8(12)\n",
      "memory usage: 499.1+ KB\n"
     ]
    }
   ],
   "source": [
    "dataSet.info()"
   ]
  },
  {
   "cell_type": "code",
   "execution_count": 29,
   "id": "fca865d6",
   "metadata": {},
   "outputs": [],
   "source": [
    "dataSet.drop(columns=['gender', 'work_type', 'smoking_status'], axis=1, inplace=True)"
   ]
  },
  {
   "cell_type": "markdown",
   "id": "c21a98d0",
   "metadata": {},
   "source": [
    "Now, we have to delete the columns which contains the values of object type. This is because we have been able to filter the data from it and stored in new columns. Hence, we are going to use it for further processing."
   ]
  },
  {
   "cell_type": "markdown",
   "id": "d6c66827",
   "metadata": {},
   "source": [
    "### Preview the summary of dataset"
   ]
  },
  {
   "cell_type": "code",
   "execution_count": 30,
   "id": "b4a74862",
   "metadata": {
    "scrolled": false
   },
   "outputs": [
    {
     "name": "stdout",
     "output_type": "stream",
     "text": [
      "<class 'pandas.core.frame.DataFrame'>\n",
      "RangeIndex: 5110 entries, 0 to 5109\n",
      "Data columns (total 20 columns):\n",
      " #   Column                         Non-Null Count  Dtype  \n",
      "---  ------                         --------------  -----  \n",
      " 0   age                            5110 non-null   float64\n",
      " 1   hypertension                   5110 non-null   int64  \n",
      " 2   heart_disease                  5110 non-null   int64  \n",
      " 3   ever_married                   5110 non-null   int64  \n",
      " 4   Residence_type                 5110 non-null   int64  \n",
      " 5   avg_glucose_level              5110 non-null   float64\n",
      " 6   bmi                            5110 non-null   float64\n",
      " 7   stroke                         5110 non-null   int64  \n",
      " 8   Gender_Female                  5110 non-null   uint8  \n",
      " 9   Gender_Male                    5110 non-null   uint8  \n",
      " 10  Gender_Other                   5110 non-null   uint8  \n",
      " 11  WorkType_Govt_job              5110 non-null   uint8  \n",
      " 12  WorkType_Never_worked          5110 non-null   uint8  \n",
      " 13  WorkType_Private               5110 non-null   uint8  \n",
      " 14  WorkType_Self-employed         5110 non-null   uint8  \n",
      " 15  WorkType_children              5110 non-null   uint8  \n",
      " 16  SmokingStatus_Unknown          5110 non-null   uint8  \n",
      " 17  SmokingStatus_formerly smoked  5110 non-null   uint8  \n",
      " 18  SmokingStatus_never smoked     5110 non-null   uint8  \n",
      " 19  SmokingStatus_smokes           5110 non-null   uint8  \n",
      "dtypes: float64(3), int64(5), uint8(12)\n",
      "memory usage: 379.4 KB\n"
     ]
    }
   ],
   "source": [
    "dataSet.info()"
   ]
  },
  {
   "cell_type": "markdown",
   "id": "946ea518",
   "metadata": {},
   "source": [
    "## 11. Preprocessing and modeling"
   ]
  },
  {
   "cell_type": "markdown",
   "id": "9adfd3fc",
   "metadata": {},
   "source": [
    "### Declare feature and target variable"
   ]
  },
  {
   "cell_type": "code",
   "execution_count": 31,
   "id": "655af015",
   "metadata": {},
   "outputs": [
    {
     "data": {
      "text/plain": [
       "((5110, 19), (5110,))"
      ]
     },
     "execution_count": 31,
     "metadata": {},
     "output_type": "execute_result"
    }
   ],
   "source": [
    "# store values from column stroke\n",
    "Y = dataSet['stroke']\n",
    "\n",
    "# store values from remaining column\n",
    "X = dataSet.drop(['stroke'], axis = 1)\n",
    "\n",
    "# checking for values\n",
    "X.shape, Y.shape"
   ]
  },
  {
   "cell_type": "markdown",
   "id": "d55378e0",
   "metadata": {},
   "source": [
    "### Data Split\n",
    "We are going to split the data into 80:20 ratio. That means 80% of the data are given to train the model and remaining 20% data are used for testing."
   ]
  },
  {
   "cell_type": "code",
   "execution_count": 32,
   "id": "1f526a2c",
   "metadata": {},
   "outputs": [],
   "source": [
    "x_train, x_test, y_train, y_test = train_test_split(X, Y, test_size=0.2, random_state=0)"
   ]
  },
  {
   "cell_type": "code",
   "execution_count": 33,
   "id": "70998f45",
   "metadata": {},
   "outputs": [
    {
     "name": "stdout",
     "output_type": "stream",
     "text": [
      "(4088, 19)\n",
      "(4088,)\n"
     ]
    }
   ],
   "source": [
    "# check for no. of rows present in training section\n",
    "print(x_train.shape)\n",
    "print(y_train.shape)"
   ]
  },
  {
   "cell_type": "code",
   "execution_count": 34,
   "id": "f3d9195d",
   "metadata": {
    "scrolled": true
   },
   "outputs": [
    {
     "name": "stdout",
     "output_type": "stream",
     "text": [
      "(1022, 19)\n",
      "(1022,)\n"
     ]
    }
   ],
   "source": [
    "# check for no. of rows present in testing section\n",
    "print(x_test.shape)\n",
    "print(y_test.shape)"
   ]
  },
  {
   "cell_type": "code",
   "execution_count": 35,
   "id": "600a2fb1",
   "metadata": {},
   "outputs": [
    {
     "data": {
      "text/html": [
       "<div>\n",
       "<style scoped>\n",
       "    .dataframe tbody tr th:only-of-type {\n",
       "        vertical-align: middle;\n",
       "    }\n",
       "\n",
       "    .dataframe tbody tr th {\n",
       "        vertical-align: top;\n",
       "    }\n",
       "\n",
       "    .dataframe thead th {\n",
       "        text-align: right;\n",
       "    }\n",
       "</style>\n",
       "<table border=\"1\" class=\"dataframe\">\n",
       "  <thead>\n",
       "    <tr style=\"text-align: right;\">\n",
       "      <th></th>\n",
       "      <th>age</th>\n",
       "      <th>hypertension</th>\n",
       "      <th>heart_disease</th>\n",
       "      <th>ever_married</th>\n",
       "      <th>Residence_type</th>\n",
       "      <th>avg_glucose_level</th>\n",
       "      <th>bmi</th>\n",
       "      <th>Gender_Female</th>\n",
       "      <th>Gender_Male</th>\n",
       "      <th>Gender_Other</th>\n",
       "      <th>WorkType_Govt_job</th>\n",
       "      <th>WorkType_Never_worked</th>\n",
       "      <th>WorkType_Private</th>\n",
       "      <th>WorkType_Self-employed</th>\n",
       "      <th>WorkType_children</th>\n",
       "      <th>SmokingStatus_Unknown</th>\n",
       "      <th>SmokingStatus_formerly smoked</th>\n",
       "      <th>SmokingStatus_never smoked</th>\n",
       "      <th>SmokingStatus_smokes</th>\n",
       "    </tr>\n",
       "  </thead>\n",
       "  <tbody>\n",
       "    <tr>\n",
       "      <th>count</th>\n",
       "      <td>4088.000000</td>\n",
       "      <td>4088.000000</td>\n",
       "      <td>4088.000000</td>\n",
       "      <td>4088.000000</td>\n",
       "      <td>4088.000000</td>\n",
       "      <td>4088.000000</td>\n",
       "      <td>4088.000000</td>\n",
       "      <td>4088.000000</td>\n",
       "      <td>4088.000000</td>\n",
       "      <td>4088.000000</td>\n",
       "      <td>4088.000000</td>\n",
       "      <td>4088.000000</td>\n",
       "      <td>4088.000000</td>\n",
       "      <td>4088.000000</td>\n",
       "      <td>4088.000000</td>\n",
       "      <td>4088.000000</td>\n",
       "      <td>4088.000000</td>\n",
       "      <td>4088.000000</td>\n",
       "      <td>4088.000000</td>\n",
       "    </tr>\n",
       "    <tr>\n",
       "      <th>mean</th>\n",
       "      <td>43.438865</td>\n",
       "      <td>0.099315</td>\n",
       "      <td>0.054305</td>\n",
       "      <td>0.659491</td>\n",
       "      <td>0.510029</td>\n",
       "      <td>106.255262</td>\n",
       "      <td>28.904799</td>\n",
       "      <td>0.588307</td>\n",
       "      <td>0.411448</td>\n",
       "      <td>0.000245</td>\n",
       "      <td>0.133562</td>\n",
       "      <td>0.003425</td>\n",
       "      <td>0.568004</td>\n",
       "      <td>0.160959</td>\n",
       "      <td>0.134051</td>\n",
       "      <td>0.300636</td>\n",
       "      <td>0.174168</td>\n",
       "      <td>0.369374</td>\n",
       "      <td>0.155822</td>\n",
       "    </tr>\n",
       "    <tr>\n",
       "      <th>std</th>\n",
       "      <td>22.665445</td>\n",
       "      <td>0.299121</td>\n",
       "      <td>0.226647</td>\n",
       "      <td>0.473938</td>\n",
       "      <td>0.499961</td>\n",
       "      <td>45.301823</td>\n",
       "      <td>7.834275</td>\n",
       "      <td>0.492200</td>\n",
       "      <td>0.492156</td>\n",
       "      <td>0.015640</td>\n",
       "      <td>0.340222</td>\n",
       "      <td>0.058427</td>\n",
       "      <td>0.495414</td>\n",
       "      <td>0.367538</td>\n",
       "      <td>0.340749</td>\n",
       "      <td>0.458591</td>\n",
       "      <td>0.379301</td>\n",
       "      <td>0.482694</td>\n",
       "      <td>0.362731</td>\n",
       "    </tr>\n",
       "    <tr>\n",
       "      <th>min</th>\n",
       "      <td>0.080000</td>\n",
       "      <td>0.000000</td>\n",
       "      <td>0.000000</td>\n",
       "      <td>0.000000</td>\n",
       "      <td>0.000000</td>\n",
       "      <td>55.120000</td>\n",
       "      <td>10.300000</td>\n",
       "      <td>0.000000</td>\n",
       "      <td>0.000000</td>\n",
       "      <td>0.000000</td>\n",
       "      <td>0.000000</td>\n",
       "      <td>0.000000</td>\n",
       "      <td>0.000000</td>\n",
       "      <td>0.000000</td>\n",
       "      <td>0.000000</td>\n",
       "      <td>0.000000</td>\n",
       "      <td>0.000000</td>\n",
       "      <td>0.000000</td>\n",
       "      <td>0.000000</td>\n",
       "    </tr>\n",
       "    <tr>\n",
       "      <th>25%</th>\n",
       "      <td>25.000000</td>\n",
       "      <td>0.000000</td>\n",
       "      <td>0.000000</td>\n",
       "      <td>0.000000</td>\n",
       "      <td>0.000000</td>\n",
       "      <td>77.197500</td>\n",
       "      <td>23.700000</td>\n",
       "      <td>0.000000</td>\n",
       "      <td>0.000000</td>\n",
       "      <td>0.000000</td>\n",
       "      <td>0.000000</td>\n",
       "      <td>0.000000</td>\n",
       "      <td>0.000000</td>\n",
       "      <td>0.000000</td>\n",
       "      <td>0.000000</td>\n",
       "      <td>0.000000</td>\n",
       "      <td>0.000000</td>\n",
       "      <td>0.000000</td>\n",
       "      <td>0.000000</td>\n",
       "    </tr>\n",
       "    <tr>\n",
       "      <th>50%</th>\n",
       "      <td>45.000000</td>\n",
       "      <td>0.000000</td>\n",
       "      <td>0.000000</td>\n",
       "      <td>1.000000</td>\n",
       "      <td>1.000000</td>\n",
       "      <td>92.040000</td>\n",
       "      <td>28.400000</td>\n",
       "      <td>1.000000</td>\n",
       "      <td>0.000000</td>\n",
       "      <td>0.000000</td>\n",
       "      <td>0.000000</td>\n",
       "      <td>0.000000</td>\n",
       "      <td>1.000000</td>\n",
       "      <td>0.000000</td>\n",
       "      <td>0.000000</td>\n",
       "      <td>0.000000</td>\n",
       "      <td>0.000000</td>\n",
       "      <td>0.000000</td>\n",
       "      <td>0.000000</td>\n",
       "    </tr>\n",
       "    <tr>\n",
       "      <th>75%</th>\n",
       "      <td>61.000000</td>\n",
       "      <td>0.000000</td>\n",
       "      <td>0.000000</td>\n",
       "      <td>1.000000</td>\n",
       "      <td>1.000000</td>\n",
       "      <td>114.165000</td>\n",
       "      <td>32.800000</td>\n",
       "      <td>1.000000</td>\n",
       "      <td>1.000000</td>\n",
       "      <td>0.000000</td>\n",
       "      <td>0.000000</td>\n",
       "      <td>0.000000</td>\n",
       "      <td>1.000000</td>\n",
       "      <td>0.000000</td>\n",
       "      <td>0.000000</td>\n",
       "      <td>1.000000</td>\n",
       "      <td>0.000000</td>\n",
       "      <td>1.000000</td>\n",
       "      <td>0.000000</td>\n",
       "    </tr>\n",
       "    <tr>\n",
       "      <th>max</th>\n",
       "      <td>82.000000</td>\n",
       "      <td>1.000000</td>\n",
       "      <td>1.000000</td>\n",
       "      <td>1.000000</td>\n",
       "      <td>1.000000</td>\n",
       "      <td>271.740000</td>\n",
       "      <td>97.600000</td>\n",
       "      <td>1.000000</td>\n",
       "      <td>1.000000</td>\n",
       "      <td>1.000000</td>\n",
       "      <td>1.000000</td>\n",
       "      <td>1.000000</td>\n",
       "      <td>1.000000</td>\n",
       "      <td>1.000000</td>\n",
       "      <td>1.000000</td>\n",
       "      <td>1.000000</td>\n",
       "      <td>1.000000</td>\n",
       "      <td>1.000000</td>\n",
       "      <td>1.000000</td>\n",
       "    </tr>\n",
       "  </tbody>\n",
       "</table>\n",
       "</div>"
      ],
      "text/plain": [
       "               age  hypertension  heart_disease  ever_married  Residence_type  \\\n",
       "count  4088.000000   4088.000000    4088.000000   4088.000000     4088.000000   \n",
       "mean     43.438865      0.099315       0.054305      0.659491        0.510029   \n",
       "std      22.665445      0.299121       0.226647      0.473938        0.499961   \n",
       "min       0.080000      0.000000       0.000000      0.000000        0.000000   \n",
       "25%      25.000000      0.000000       0.000000      0.000000        0.000000   \n",
       "50%      45.000000      0.000000       0.000000      1.000000        1.000000   \n",
       "75%      61.000000      0.000000       0.000000      1.000000        1.000000   \n",
       "max      82.000000      1.000000       1.000000      1.000000        1.000000   \n",
       "\n",
       "       avg_glucose_level          bmi  Gender_Female  Gender_Male  \\\n",
       "count        4088.000000  4088.000000    4088.000000  4088.000000   \n",
       "mean          106.255262    28.904799       0.588307     0.411448   \n",
       "std            45.301823     7.834275       0.492200     0.492156   \n",
       "min            55.120000    10.300000       0.000000     0.000000   \n",
       "25%            77.197500    23.700000       0.000000     0.000000   \n",
       "50%            92.040000    28.400000       1.000000     0.000000   \n",
       "75%           114.165000    32.800000       1.000000     1.000000   \n",
       "max           271.740000    97.600000       1.000000     1.000000   \n",
       "\n",
       "       Gender_Other  WorkType_Govt_job  WorkType_Never_worked  \\\n",
       "count   4088.000000        4088.000000            4088.000000   \n",
       "mean       0.000245           0.133562               0.003425   \n",
       "std        0.015640           0.340222               0.058427   \n",
       "min        0.000000           0.000000               0.000000   \n",
       "25%        0.000000           0.000000               0.000000   \n",
       "50%        0.000000           0.000000               0.000000   \n",
       "75%        0.000000           0.000000               0.000000   \n",
       "max        1.000000           1.000000               1.000000   \n",
       "\n",
       "       WorkType_Private  WorkType_Self-employed  WorkType_children  \\\n",
       "count       4088.000000             4088.000000        4088.000000   \n",
       "mean           0.568004                0.160959           0.134051   \n",
       "std            0.495414                0.367538           0.340749   \n",
       "min            0.000000                0.000000           0.000000   \n",
       "25%            0.000000                0.000000           0.000000   \n",
       "50%            1.000000                0.000000           0.000000   \n",
       "75%            1.000000                0.000000           0.000000   \n",
       "max            1.000000                1.000000           1.000000   \n",
       "\n",
       "       SmokingStatus_Unknown  SmokingStatus_formerly smoked  \\\n",
       "count            4088.000000                    4088.000000   \n",
       "mean                0.300636                       0.174168   \n",
       "std                 0.458591                       0.379301   \n",
       "min                 0.000000                       0.000000   \n",
       "25%                 0.000000                       0.000000   \n",
       "50%                 0.000000                       0.000000   \n",
       "75%                 1.000000                       0.000000   \n",
       "max                 1.000000                       1.000000   \n",
       "\n",
       "       SmokingStatus_never smoked  SmokingStatus_smokes  \n",
       "count                 4088.000000           4088.000000  \n",
       "mean                     0.369374              0.155822  \n",
       "std                      0.482694              0.362731  \n",
       "min                      0.000000              0.000000  \n",
       "25%                      0.000000              0.000000  \n",
       "50%                      0.000000              0.000000  \n",
       "75%                      1.000000              0.000000  \n",
       "max                      1.000000              1.000000  "
      ]
     },
     "execution_count": 35,
     "metadata": {},
     "output_type": "execute_result"
    }
   ],
   "source": [
    "x_train.describe()"
   ]
  },
  {
   "cell_type": "markdown",
   "id": "584b56a1",
   "metadata": {},
   "source": [
    "### Normalize the data\n",
    "This is required in order to minimize the values. As you can see, we have some mean and standard deviation values which is way too much higher."
   ]
  },
  {
   "cell_type": "code",
   "execution_count": 36,
   "id": "a4f0cebe",
   "metadata": {},
   "outputs": [],
   "source": [
    "stn = StandardScaler()"
   ]
  },
  {
   "cell_type": "code",
   "execution_count": 37,
   "id": "a58027e4",
   "metadata": {},
   "outputs": [],
   "source": [
    "x_train_stn = stn.fit_transform(x_train)\n",
    "x_test_stn = stn.transform(x_test)"
   ]
  },
  {
   "cell_type": "code",
   "execution_count": 38,
   "id": "6c5bbcfe",
   "metadata": {},
   "outputs": [
    {
     "data": {
      "text/plain": [
       "array([[-0.32824306, -0.33206349, -0.23963241, ...,  2.17751533,\n",
       "        -0.76532697, -0.42963261],\n",
       "       [-0.41649391, -0.33206349, -0.23963241, ...,  2.17751533,\n",
       "        -0.76532697, -0.42963261],\n",
       "       [ 0.73076708, -0.33206349, -0.23963241, ..., -0.45923902,\n",
       "         1.30663108, -0.42963261],\n",
       "       ...,\n",
       "       [ 0.02476032, -0.33206349, -0.23963241, ..., -0.45923902,\n",
       "        -0.76532697,  2.32757007],\n",
       "       [-0.9901244 , -0.33206349, -0.23963241, ...,  2.17751533,\n",
       "        -0.76532697, -0.42963261],\n",
       "       [ 0.64251624,  3.01147232, -0.23963241, ..., -0.45923902,\n",
       "         1.30663108, -0.42963261]])"
      ]
     },
     "execution_count": 38,
     "metadata": {},
     "output_type": "execute_result"
    }
   ],
   "source": [
    "x_train_stn"
   ]
  },
  {
   "cell_type": "code",
   "execution_count": 39,
   "id": "71bb937a",
   "metadata": {
    "scrolled": true
   },
   "outputs": [
    {
     "data": {
      "text/plain": [
       "array([[ 1.70152638, -0.33206349,  4.17305816, ..., -0.45923902,\n",
       "        -0.76532697,  2.32757007],\n",
       "       [-1.74025658, -0.33206349, -0.23963241, ..., -0.45923902,\n",
       "        -0.76532697, -0.42963261],\n",
       "       [ 0.64251624, -0.33206349, -0.23963241, ..., -0.45923902,\n",
       "         1.30663108, -0.42963261],\n",
       "       ...,\n",
       "       [ 0.3777637 , -0.33206349, -0.23963241, ..., -0.45923902,\n",
       "        -0.76532697, -0.42963261],\n",
       "       [ 1.52502469, -0.33206349, -0.23963241, ...,  2.17751533,\n",
       "        -0.76532697, -0.42963261],\n",
       "       [-0.37236848, -0.33206349, -0.23963241, ...,  2.17751533,\n",
       "        -0.76532697, -0.42963261]])"
      ]
     },
     "execution_count": 39,
     "metadata": {},
     "output_type": "execute_result"
    }
   ],
   "source": [
    "x_test_stn"
   ]
  },
  {
   "cell_type": "markdown",
   "id": "36d022cc",
   "metadata": {},
   "source": [
    "Now, our data is ready for processing."
   ]
  },
  {
   "cell_type": "markdown",
   "id": "53ed5014",
   "metadata": {},
   "source": [
    "### Model preparation\n",
    "A model is created and it is trained in this section. For this it is provided with a set of well labelled data which we have prepared earlier."
   ]
  },
  {
   "cell_type": "code",
   "execution_count": 40,
   "id": "36781c4e",
   "metadata": {},
   "outputs": [],
   "source": [
    "model = LogisticRegression()"
   ]
  },
  {
   "cell_type": "code",
   "execution_count": 41,
   "id": "626eadd6",
   "metadata": {},
   "outputs": [
    {
     "data": {
      "text/plain": [
       "LogisticRegression()"
      ]
     },
     "execution_count": 41,
     "metadata": {},
     "output_type": "execute_result"
    }
   ],
   "source": [
    "# model training\n",
    "model.fit(x_train_stn, y_train)"
   ]
  },
  {
   "cell_type": "code",
   "execution_count": 42,
   "id": "0dbee3ec",
   "metadata": {},
   "outputs": [],
   "source": [
    "y_predict = model.predict(x_test_stn)"
   ]
  },
  {
   "cell_type": "markdown",
   "id": "a60f3708",
   "metadata": {},
   "source": [
    "In the above code, model is provided with a set of inputs for testing J(i.e normalized data) and is made to predict the output. These outputs are available in <b><i>y_predict</i></b> variable."
   ]
  },
  {
   "cell_type": "code",
   "execution_count": 43,
   "id": "7f126229",
   "metadata": {},
   "outputs": [
    {
     "data": {
      "text/plain": [
       "array([0, 0, 0, ..., 0, 0, 0], dtype=int64)"
      ]
     },
     "execution_count": 43,
     "metadata": {},
     "output_type": "execute_result"
    }
   ],
   "source": [
    "# checking y_predict values\n",
    "y_predict"
   ]
  },
  {
   "cell_type": "markdown",
   "id": "bb10e95a",
   "metadata": {},
   "source": [
    "## 12. Finding result and accuracy\n",
    "Here, we are going to find the accuracy score. In addition to it, we will show the recall score, precision score and f1 score in classification report."
   ]
  },
  {
   "cell_type": "code",
   "execution_count": 44,
   "id": "c1ec7332",
   "metadata": {},
   "outputs": [
    {
     "name": "stdout",
     "output_type": "stream",
     "text": [
      "Accuracy score: 0.9481409001956947\n"
     ]
    }
   ],
   "source": [
    "accuracy = accuracy_score(y_test, y_predict)\n",
    "print(f\"Accuracy score: {accuracy}\")"
   ]
  },
  {
   "cell_type": "code",
   "execution_count": 45,
   "id": "7ae259de",
   "metadata": {},
   "outputs": [
    {
     "name": "stdout",
     "output_type": "stream",
     "text": [
      "[[968   0]\n",
      " [ 53   1]]\n"
     ]
    }
   ],
   "source": [
    "print(confusion_matrix(y_test, y_predict))"
   ]
  },
  {
   "cell_type": "code",
   "execution_count": 46,
   "id": "3e89c7b0",
   "metadata": {
    "scrolled": true
   },
   "outputs": [
    {
     "name": "stdout",
     "output_type": "stream",
     "text": [
      "              precision    recall  f1-score   support\n",
      "\n",
      "           0       0.95      1.00      0.97       968\n",
      "           1       1.00      0.02      0.04        54\n",
      "\n",
      "    accuracy                           0.95      1022\n",
      "   macro avg       0.97      0.51      0.50      1022\n",
      "weighted avg       0.95      0.95      0.92      1022\n",
      "\n"
     ]
    }
   ],
   "source": [
    "print(classification_report(y_test, y_predict))"
   ]
  },
  {
   "cell_type": "markdown",
   "id": "41e2d163",
   "metadata": {},
   "source": [
    "### Compute ROC AUC and ROC curve"
   ]
  },
  {
   "cell_type": "markdown",
   "id": "8e6b7f17",
   "metadata": {},
   "source": [
    "#### Calculate AUC ROC Score"
   ]
  },
  {
   "cell_type": "code",
   "execution_count": 47,
   "id": "01124b73",
   "metadata": {},
   "outputs": [
    {
     "name": "stdout",
     "output_type": "stream",
     "text": [
      "AUC ROC score : 0.5092592592592593\n"
     ]
    }
   ],
   "source": [
    "score = roc_auc_score(y_test, y_predict)\n",
    "print(f\"AUC ROC score : {score}\")"
   ]
  },
  {
   "cell_type": "markdown",
   "id": "75981985",
   "metadata": {},
   "source": [
    "#### Calculate ROC curve"
   ]
  },
  {
   "cell_type": "code",
   "execution_count": 48,
   "id": "8a0256d4",
   "metadata": {},
   "outputs": [],
   "source": [
    "false_positive_rate, true_positive_rate, _ = roc_curve(y_test, y_predict)"
   ]
  },
  {
   "cell_type": "markdown",
   "id": "e414e34c",
   "metadata": {},
   "source": [
    "## 13. Plotting the ROC curve"
   ]
  },
  {
   "cell_type": "code",
   "execution_count": 52,
   "id": "6ec91417",
   "metadata": {
    "scrolled": false
   },
   "outputs": [
    {
     "data": {
      "image/png": "[encoded data removed]",
      "text/plain": [
       "<Figure size 504x432 with 1 Axes>"
      ]
     },
     "metadata": {
      "needs_background": "light"
     },
     "output_type": "display_data"
    }
   ],
   "source": [
    "# figure size\n",
    "plt.figure(figsize = (7, 6))\n",
    "\n",
    "plt.plot(false_positive_rate, true_positive_rate, color = 'green',  label = 'AUC ROC = %0.2f' % score)\n",
    "\n",
    "# show legend\n",
    "plt.legend(loc = 'lower right')\n",
    "\n",
    "# show gridline\n",
    "plt.grid()\n",
    "\n",
    "# title\n",
    "plt.title('ROC Plot')\n",
    "\n",
    "# label axis\n",
    "plt.xlabel('False Positive Rate')\n",
    "plt.ylabel('True Positive Rate')\n",
    "\n",
    "# show plot\n",
    "plt.show()"
   ]
  },
  {
   "cell_type": "markdown",
   "id": "df4016bf",
   "metadata": {},
   "source": [
    "## 14. Conclusion\n",
    "In this project, I have implemented one of the most popular supervised machine learning algorithm known as <b><i>Logistic Regression</i></b>.<br><br>I find that the model has accuracy score above 0.9."
   ]
  }
 ],
 "metadata": {
  "kernelspec": {
   "display_name": "Python 3 (ipykernel)",
   "language": "python",
   "name": "python3"
  },
  "language_info": {
   "codemirror_mode": {
    "name": "ipython",
    "version": 3
   },
   "file_extension": ".py",
   "mimetype": "text/x-python",
   "name": "python",
   "nbconvert_exporter": "python",
   "pygments_lexer": "ipython3",
   "version": "3.9.7"
  }
 },
 "nbformat": 4,
 "nbformat_minor": 5
}
